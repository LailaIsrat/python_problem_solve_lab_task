{
  "nbformat": 4,
  "nbformat_minor": 0,
  "metadata": {
    "colab": {
      "name": "Task_2.ipynb",
      "provenance": [],
      "collapsed_sections": [],
      "authorship_tag": "ABX9TyNfrXRFVEMS95xeQYNkSMwJ",
      "include_colab_link": true
    },
    "kernelspec": {
      "name": "python3",
      "display_name": "Python 3"
    }
  },
  "cells": [
    {
      "cell_type": "markdown",
      "metadata": {
        "id": "view-in-github",
        "colab_type": "text"
      },
      "source": [
        "<a href=\"https://colab.research.google.com/github/LailaIsrat/python_problem_solve_lab_task/blob/main/Task_2.ipynb\" target=\"_parent\"><img src=\"https://colab.research.google.com/assets/colab-badge.svg\" alt=\"Open In Colab\"/></a>"
      ]
    },
    {
      "cell_type": "code",
      "metadata": {
        "id": "3qFBbxPqFHwH"
      },
      "source": [
        ""
      ],
      "execution_count": null,
      "outputs": []
    },
    {
      "cell_type": "markdown",
      "metadata": {
        "id": "RrC8rjYmG75D"
      },
      "source": [
        "# *Question*\r\n",
        "Write a program that prints whether a given string is palindrome or not.\r\n",
        "A string is said to be palindrome if the reverse of the string is the same as string. For example,\r\n",
        " \"abba\" is a palindrome, but \"abbc\" is not a palindrome. \r\n"
      ]
    },
    {
      "cell_type": "code",
      "metadata": {
        "colab": {
          "base_uri": "https://localhost:8080/"
        },
        "id": "HP9be_gnHcR9",
        "outputId": "d97fad88-5238-4f6a-a04f-da88697e91ca"
      },
      "source": [
        "string = input(\"Enter string : \")\r\n",
        "reverse_string = \"\".join(reversed(string)) \r\n",
        "\r\n",
        "print ()\r\n",
        "\r\n",
        "if (reverse_string == string ):\r\n",
        "  print (\"'\",string,\"'\",\"is a palindrom\")\r\n",
        "else:\r\n",
        "   print (\"'\",string,\"'\",\"is not a palindrom\")\r\n"
      ],
      "execution_count": 25,
      "outputs": [
        {
          "output_type": "stream",
          "text": [
            "Enter string : madam\n",
            "\n",
            "' madam ' is a palindrom\n"
          ],
          "name": "stdout"
        }
      ]
    }
  ]
}