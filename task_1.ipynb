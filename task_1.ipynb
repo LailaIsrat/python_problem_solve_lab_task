{
  "nbformat": 4,
  "nbformat_minor": 0,
  "metadata": {
    "colab": {
      "name": "task_1.ipynb",
      "provenance": [],
      "authorship_tag": "ABX9TyP7EEXSy6q6XEBnQgsQ/v0W",
      "include_colab_link": true
    },
    "kernelspec": {
      "name": "python3",
      "display_name": "Python 3"
    }
  },
  "cells": [
    {
      "cell_type": "markdown",
      "metadata": {
        "id": "view-in-github",
        "colab_type": "text"
      },
      "source": [
        "<a href=\"https://colab.research.google.com/github/LailaIsrat/python_problem_solve_lab_task/blob/main/task_1.ipynb\" target=\"_parent\"><img src=\"https://colab.research.google.com/assets/colab-badge.svg\" alt=\"Open In Colab\"/></a>"
      ]
    },
    {
      "cell_type": "markdown",
      "metadata": {
        "id": "dUTbPMzd0Crj"
      },
      "source": [
        "***Write a Python program to print a string from a given input string where all occurrences of its first char have been changed to (dolar sign) except the first char itself.***\r\n",
        "\r\n",
        "***Input String :***    \"energetic\"\r\n",
        "\r\n"
      ]
    },
    {
      "cell_type": "code",
      "metadata": {
        "id": "8kQR9tOd0DO3",
        "colab": {
          "base_uri": "https://localhost:8080/"
        },
        "outputId": "260be474-b0a8-4dd2-93f3-93d08f69c5b6"
      },
      "source": [
        " print (\"Taking input : \",)\r\n",
        " string = input()                        # string input\r\n",
        "\r\n",
        " first_index = string[0]                 # definne first index\r\n",
        " #print(\"First index : \",first_index)\r\n",
        "\r\n",
        " remaining_index = string [1: len(convert_string_into_list)] #define  rest of index without frist character of original string \r\n",
        " #print(\"Rest string: \",remaining_index)\r\n",
        " \r\n",
        " res = remaining_index.replace(first_index, '$') # replacing (with \"$\")all the mathching index (match with first_index) in remaining_index \r\n",
        " converted = first_index + res                   # concating first_index and replaced string to see the converted full string \r\n",
        "\r\n",
        " print()\r\n",
        " print(\"original string  : \",string)\r\n",
        " print(\"converted string : \",converted)\r\n"
      ],
      "execution_count": null,
      "outputs": [
        {
          "output_type": "stream",
          "text": [
            "Taking input : \n",
            "laila\n",
            "\n",
            "original string  :  laila\n",
            "converted string :  lai$a\n"
          ],
          "name": "stdout"
        }
      ]
    }
  ]
}