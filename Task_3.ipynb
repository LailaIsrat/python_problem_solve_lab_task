{
  "nbformat": 4,
  "nbformat_minor": 0,
  "metadata": {
    "colab": {
      "name": "Task_3.ipynb",
      "provenance": [],
      "authorship_tag": "ABX9TyPQDldhxRVg/MCRVjWVSui5",
      "include_colab_link": true
    },
    "kernelspec": {
      "name": "python3",
      "display_name": "Python 3"
    }
  },
  "cells": [
    {
      "cell_type": "markdown",
      "metadata": {
        "id": "view-in-github",
        "colab_type": "text"
      },
      "source": [
        "<a href=\"https://colab.research.google.com/github/LailaIsrat/python_problem_solve_lab_task/blob/main/Task_3.ipynb\" target=\"_parent\"><img src=\"https://colab.research.google.com/assets/colab-badge.svg\" alt=\"Open In Colab\"/></a>"
      ]
    },
    {
      "cell_type": "code",
      "metadata": {
        "id": "qUTtOcBCNIqy"
      },
      "source": [
        ""
      ],
      "execution_count": null,
      "outputs": []
    },
    {
      "cell_type": "markdown",
      "metadata": {
        "id": "BiJxyqybNM3a"
      },
      "source": [
        "# *Question*\r\n",
        "Take a list of integers as input. Remove the duplicate integers from the list. Print the updated list.\r\n",
        "\r\n",
        "\r\n",
        "Sample Input : [1,2,1,3,5,3,7]\r\n",
        "\r\n",
        "\r\n",
        "\r\n",
        "Output: Number of unique items- [1,2,3,5,7]"
      ]
    },
    {
      "cell_type": "code",
      "metadata": {
        "colab": {
          "base_uri": "https://localhost:8080/"
        },
        "id": "0F4Rm9K5NYo2",
        "outputId": "88bd8fdd-d4b5-41ad-819f-e0a226541656"
      },
      "source": [
        "list1 = list (input(\"Enter Sample value :\"))\r\n",
        "#print(list1)\r\n",
        "print()\r\n",
        "print(\"Original list : \"\"[%s]\"%(\",\".join(list1)))\r\n",
        "print()\r\n",
        "#list1=[1,2,1,2,3,5]\r\n",
        "unique_item =[]\r\n",
        "for i in list1 :\r\n",
        "  if i not in unique_item:\r\n",
        "    unique_item.append(i)\r\n",
        "print(\"Number of unique items : \"\"[%s]\"%(\",\".join(unique_item)))\r\n",
        "#print(\"Number of unique items : \",[int (j) for j in unique_item])\r\n",
        "#print(\"Number of unique items : \",unique_item)\r\n",
        "\r\n",
        "\r\n"
      ],
      "execution_count": 8,
      "outputs": [
        {
          "output_type": "stream",
          "text": [
            "Enter Sample value :1245785214\n",
            "\n",
            "Original list : [1,2,4,5,7,8,5,2,1,4]\n",
            "\n",
            "Number of unique items : [1,2,4,5,7,8]\n"
          ],
          "name": "stdout"
        }
      ]
    }
  ]
}