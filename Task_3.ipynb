{
  "nbformat": 4,
  "nbformat_minor": 0,
  "metadata": {
    "colab": {
      "name": "Task_3.ipynb",
      "provenance": [],
      "authorship_tag": "ABX9TyPG1E7CUwf/hEzceEnGo2zU",
      "include_colab_link": true
    },
    "kernelspec": {
      "name": "python3",
      "display_name": "Python 3"
    }
  },
  "cells": [
    {
      "cell_type": "markdown",
      "metadata": {
        "id": "view-in-github",
        "colab_type": "text"
      },
      "source": [
        "<a href=\"https://colab.research.google.com/github/LailaIsrat/python_problem_solve_lab_task/blob/main/Task_3.ipynb\" target=\"_parent\"><img src=\"https://colab.research.google.com/assets/colab-badge.svg\" alt=\"Open In Colab\"/></a>"
      ]
    },
    {
      "cell_type": "code",
      "metadata": {
        "id": "qUTtOcBCNIqy"
      },
      "source": [
        ""
      ],
      "execution_count": null,
      "outputs": []
    },
    {
      "cell_type": "markdown",
      "metadata": {
        "id": "BiJxyqybNM3a"
      },
      "source": [
        "# *Question*\r\n",
        "Take a list of integers as input. Remove the duplicate integers from the list. Print the updated list.\r\n",
        "\r\n",
        "\r\n",
        "Sample Input : [1,2,1,3,5,3,7]\r\n",
        "\r\n",
        "\r\n",
        "\r\n",
        "Output: Number of unique items- [1,2,3,5,7]"
      ]
    },
    {
      "cell_type": "code",
      "metadata": {
        "colab": {
          "base_uri": "https://localhost:8080/"
        },
        "id": "0F4Rm9K5NYo2",
        "outputId": "8cc76e05-030d-477d-b4d6-727e50f6f846"
      },
      "source": [
        "list1 = list (input(\"Enter Sample value :\"))\r\n",
        "#print(list1)\r\n",
        "#list1=[1,2,1,2,3,5]\r\n",
        "unique_item =[]\r\n",
        "for i in list1 :\r\n",
        "  if i not in unique_item:\r\n",
        "    unique_item.append(i)\r\n",
        "print(\"[%s]\"%(\",\".join(unique_item)))\r\n",
        "#print(\"Number of unique items : \",[int (j) for j in unique_item])\r\n",
        "#print(\"Number of unique items : \",unique_item)\r\n",
        "\r\n",
        "\r\n"
      ],
      "execution_count": 3,
      "outputs": [
        {
          "output_type": "stream",
          "text": [
            "Enter Sample value :135876\n",
            "[1,3,5,8,7,6]\n"
          ],
          "name": "stdout"
        }
      ]
    }
  ]
}