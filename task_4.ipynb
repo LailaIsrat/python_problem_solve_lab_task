{
  "nbformat": 4,
  "nbformat_minor": 0,
  "metadata": {
    "colab": {
      "name": "task_4",
      "provenance": [],
      "authorship_tag": "ABX9TyNMQO4ikXTVF2C2vwhu9m4g",
      "include_colab_link": true
    },
    "kernelspec": {
      "name": "python3",
      "display_name": "Python 3"
    }
  },
  "cells": [
    {
      "cell_type": "markdown",
      "metadata": {
        "id": "view-in-github",
        "colab_type": "text"
      },
      "source": [
        "<a href=\"https://colab.research.google.com/github/LailaIsrat/python_problem_solve_lab_task/blob/main/task_4.ipynb\" target=\"_parent\"><img src=\"https://colab.research.google.com/assets/colab-badge.svg\" alt=\"Open In Colab\"/></a>"
      ]
    },
    {
      "cell_type": "markdown",
      "metadata": {
        "id": "toEyfZJm70EY"
      },
      "source": [
        "***Question***\r\n",
        "\r\n",
        "\r\n",
        "\r\n",
        "Write a Python program to count the number of even and odd numbers from a list of\r\n",
        "numbers. Print the count. Then remove the even numbers from the list and print the\r\n",
        "updated list. \r\n"
      ]
    },
    {
      "cell_type": "code",
      "metadata": {
        "colab": {
          "base_uri": "https://localhost:8080/"
        },
        "id": "CmfxQHu8786c",
        "outputId": "f59b9dcf-afc9-4bbd-8ad7-6f64e26a8ca8"
      },
      "source": [
        "number = list (input(\"Enter a number: \"))\r\n",
        "print(\"Original list : \"\"[%s]\"%(\",\".join(number)))\r\n",
        "\r\n",
        "even_number_list = []\r\n",
        "updated_number_list=[]\r\n",
        "count_even = 0\r\n",
        "count_odd = 0\r\n",
        "\r\n",
        "for i in range (len(number)) :\r\n",
        "  if ((int (number[i]) % 2) != 0) :\r\n",
        "    count_odd +=1\r\n",
        "    updated_number_list.append(number[i])\r\n",
        "  else:\r\n",
        "    count_even += 1 \r\n",
        "    even_number_list.append(number[i])\r\n",
        "\r\n",
        "print()\r\n",
        "print(\"Even count:\",count_even)\r\n",
        "print(\"Even number list : \"\"[%s]\"%(\",\".join(even_number_list)))\r\n",
        "\r\n",
        "print()\r\n",
        "print(\"Odd count :\",count_odd) \r\n",
        "print(\"Updated list after removing even number : \"\"[%s]\"%(\",\".join(updated_number_list)))"
      ],
      "execution_count": 9,
      "outputs": [
        {
          "output_type": "stream",
          "text": [
            "Enter a number: 2486764832548975\n",
            "Original list : [2,4,8,6,7,6,4,8,3,2,5,4,8,9,7,5]\n",
            "\n",
            "Even count: 10\n",
            "Even number list : [2,4,8,6,6,4,8,2,4,8]\n",
            "\n",
            "Odd count : 6\n",
            "Updated list after removing even number : [7,3,5,9,7,5]\n"
          ],
          "name": "stdout"
        }
      ]
    }
  ]
}